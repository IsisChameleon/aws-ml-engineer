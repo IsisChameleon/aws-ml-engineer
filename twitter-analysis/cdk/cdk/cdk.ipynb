{
 "cells": [
  {
   "cell_type": "code",
   "execution_count": 2,
   "metadata": {},
   "outputs": [],
   "source": [
    "import yaml\n",
    "import json"
   ]
  },
  {
   "cell_type": "code",
   "execution_count": null,
   "metadata": {},
   "outputs": [],
   "source": [
    "import yaml\n",
    "import json\n",
    "import sys\n",
    "\n",
    "def convert_yaml_to_json(yaml_file_path, json_file_path):\n",
    "    try:\n",
    "        # Read the YAML file\n",
    "        with open(yaml_file_path, 'r') as yaml_file:\n",
    "            yaml_content = yaml.safe_load(yaml_file)\n",
    "\n",
    "        # Convert YAML content to JSON\n",
    "        with open(json_file_path, 'w') as json_file:\n",
    "            json.dump(yaml_content, json_file, indent=2)\n",
    "\n",
    "        print(f\"Successfully converted {yaml_file_path} to {json_file_path}\")\n",
    "\n",
    "    except Exception as e:\n",
    "        print(f\"Error converting file: {e}\")\n",
    "\n",
    "if __name__ == \"__main__\":\n",
    "    if len(sys.argv) != 3:\n",
    "        print(\"Usage: python convert_yaml_to_json.py <input_yaml_file> <output_json_file>\")\n",
    "    else:\n",
    "        input_yaml_file = sys.argv[1]\n",
    "        output_json_file = sys.argv[2]\n",
    "        convert_yaml_to_json(input_yaml_file, output_json_file)"
   ]
  }
 ],
 "metadata": {
  "kernelspec": {
   "display_name": ".venv",
   "language": "python",
   "name": "python3"
  },
  "language_info": {
   "codemirror_mode": {
    "name": "ipython",
    "version": 3
   },
   "file_extension": ".py",
   "mimetype": "text/x-python",
   "name": "python",
   "nbconvert_exporter": "python",
   "pygments_lexer": "ipython3",
   "version": "3.11.9"
  }
 },
 "nbformat": 4,
 "nbformat_minor": 2
}
